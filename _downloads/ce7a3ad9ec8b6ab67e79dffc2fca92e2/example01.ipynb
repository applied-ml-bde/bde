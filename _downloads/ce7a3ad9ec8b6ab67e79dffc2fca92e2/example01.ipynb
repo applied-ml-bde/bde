{
  "cells": [
    {
      "cell_type": "markdown",
      "metadata": {},
      "source": [
        "Plot Template Estimator.\n\n# Plotting Template Estimator\n\nAn example plot for using BDE estimator.\n"
      ]
    },
    {
      "cell_type": "code",
      "execution_count": null,
      "metadata": {
        "collapsed": false
      },
      "outputs": [],
      "source": [
        "import numpy as np\nfrom matplotlib import pyplot as plt\nfrom optax import adam\n\nfrom bde.ml.loss import GaussianNLLLoss\nfrom bde.ml.models import BDEEstimator, FullyConnectedModule\n\nest = BDEEstimator(\n    model_class=FullyConnectedModule,\n    model_kwargs={\n        \"n_output_params\": 2,\n        \"layer_sizes\": [12, 12],\n    },  # No hidden layers by default\n    n_chains=20,  # 1 by default\n    n_samples=20,  # 1 by default\n    chain_len=500,  # 1 by default\n    warmup=100,  # 1 by default\n    optimizer_class=adam,\n    optimizer_kwargs={\n        \"learning_rate\": 1e-3,\n    },\n    loss=GaussianNLLLoss(),\n    batch_size=128,  # 1 by default\n    epochs=120,  # 1 by default\n    metrics=None,\n    validation_size=None,\n    seed=42,\n)\n\nx = np.random.rand(256, 1).astype(np.float32)\nx.sort()\ny = x + 0.2\nest = est.fit(x, y[..., 0])\ny_pred = est.predict(x)\n\nplt.plot(x, y, \"k\", alpha=0.4, label=\"True\")\nplt.scatter(x, y_pred, c=\"crimson\", label=\"Prediction\")\nplt.legend()\nplt.xlabel(\"x\")\nplt.ylabel(\"y\")\nplt.show()"
      ]
    }
  ],
  "metadata": {
    "kernelspec": {
      "display_name": "Python 3",
      "language": "python",
      "name": "python3"
    },
    "language_info": {
      "codemirror_mode": {
        "name": "ipython",
        "version": 3
      },
      "file_extension": ".py",
      "mimetype": "text/x-python",
      "name": "python",
      "nbconvert_exporter": "python",
      "pygments_lexer": "ipython3",
      "version": "3.12.5"
    }
  },
  "nbformat": 4,
  "nbformat_minor": 0
}