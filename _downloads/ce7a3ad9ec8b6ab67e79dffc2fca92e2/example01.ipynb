{
  "cells": [
    {
      "cell_type": "markdown",
      "metadata": {},
      "source": [
        "Plot Template Estimator.\n\n# Plotting Template Estimator\n\nA simple example of using a BDE estimator.\n"
      ]
    },
    {
      "cell_type": "code",
      "execution_count": null,
      "metadata": {
        "collapsed": false
      },
      "outputs": [],
      "source": [
        "import numpy as np\nfrom matplotlib import pyplot as plt\nfrom optax import adam\n\nfrom bde.ml.loss import GaussianNLLLoss\nfrom bde.ml.models import BDEEstimator, FullyConnectedModule"
      ]
    },
    {
      "cell_type": "markdown",
      "metadata": {},
      "source": [
        "The following data will be used in this example\n\n"
      ]
    },
    {
      "cell_type": "code",
      "execution_count": null,
      "metadata": {
        "collapsed": false
      },
      "outputs": [],
      "source": [
        "n_train = 256\nx = np.random.rand(n_train * 2).astype(np.float32).reshape(-1, 1)\nx_train = np.sort(x[:n_train], axis=0)\nx_test = np.sort(x[n_train:], axis=0)\nx = np.sort(x, axis=0)\n\n\ndef find_y(x, noise_level=None):\n    r\"\"\"Calculate target value.\"\"\"\n    y = (5 * x + 1) ** 2\n    y += 2\n    y = y[..., 0]\n    if noise_level is None:\n        return y\n    return y + np.random.normal(loc=0.0, scale=noise_level, size=x.shape[0])\n\n\ny_train = find_y(x_train, noise_level=2.0)\ny_test = find_y(x_test, noise_level=2.0)\ny = find_y(x)"
      ]
    },
    {
      "cell_type": "markdown",
      "metadata": {},
      "source": [
        "We'll set up the following BDE estimator to solve this regression task\n\n"
      ]
    },
    {
      "cell_type": "code",
      "execution_count": null,
      "metadata": {
        "collapsed": false
      },
      "outputs": [],
      "source": [
        "est = BDEEstimator(\n    model_class=FullyConnectedModule,\n    model_kwargs={\n        \"n_output_params\": 2,\n        \"layer_sizes\": [12, 12],\n        \"do_final_activation\": False,\n    },  # No hidden layers by default\n    n_chains=12,  # 1 by default\n    n_samples=30,  # 1 by default\n    chain_len=200,  # 1 by default\n    warmup=60,  # 1 by default\n    optimizer_class=adam,\n    optimizer_kwargs={\n        \"learning_rate\": 1e-3,\n    },\n    loss=GaussianNLLLoss(),\n    batch_size=128,  # 1 by default\n    epochs=60,  # 1 by default\n    metrics=None,\n    validation_size=None,\n    seed=42,\n)\n\nest = est.fit(x_train, y_train)\ny_pred = est.predict(x_test)"
      ]
    },
    {
      "cell_type": "markdown",
      "metadata": {},
      "source": [
        "And examine the results\n\n"
      ]
    },
    {
      "cell_type": "code",
      "execution_count": null,
      "metadata": {
        "collapsed": false
      },
      "outputs": [],
      "source": [
        "fig = plt.figure()\nplt.scatter(x_test, y_pred, c=\"crimson\", label=\"Prediction\")\nplt.scatter(x_test, y_test, c=\"green\", label=\"True\", alpha=0.2)\nplt.plot(x, y, \"k\", alpha=0.4, label=\"Trend\")\nplt.title(\"Demonstrating value prediction\")\nplt.legend()\nplt.xlabel(\"x\")\nplt.ylabel(\"y\")\nplt.show()"
      ]
    },
    {
      "cell_type": "markdown",
      "metadata": {},
      "source": [
        "Alternatively, the model could be used to predict the values with a\nconfidence interval\n\n"
      ]
    },
    {
      "cell_type": "code",
      "execution_count": null,
      "metadata": {
        "collapsed": false
      },
      "outputs": [],
      "source": [
        "y_pred, low, up = [\n    np.ravel(v) for v in est.predict_with_credibility_eti(x_test, 0.95)\n]\n\nfig = plt.figure()\nplt.fill_between(\n    np.ravel(x_test),\n    y1=low,\n    y2=up,\n    alpha=.5,\n    linewidth=0,\n    facecolor=\"crimson\",\n)\nplt.plot(x_test, y_pred, c=\"crimson\", label=\"Prediction\")\nplt.scatter(x_test, y_test, c=\"green\", label=\"True\", alpha=0.2)\nplt.plot(x, y, \"k\", alpha=0.4, label=\"Trend\")\nplt.title(\"Demonstrating confidence interval prediction (95%)\")\nplt.legend()\nplt.xlabel(\"x\")\nplt.ylabel(\"y\")\nplt.show()"
      ]
    }
  ],
  "metadata": {
    "kernelspec": {
      "display_name": "Python 3",
      "language": "python",
      "name": "python3"
    },
    "language_info": {
      "codemirror_mode": {
        "name": "ipython",
        "version": 3
      },
      "file_extension": ".py",
      "mimetype": "text/x-python",
      "name": "python",
      "nbconvert_exporter": "python",
      "pygments_lexer": "ipython3",
      "version": "3.12.5"
    }
  },
  "nbformat": 4,
  "nbformat_minor": 0
}